{
 "cells": [
  {
   "cell_type": "code",
   "execution_count": 10,
   "metadata": {
    "scrolled": true
   },
   "outputs": [
    {
     "name": "stdout",
     "output_type": "stream",
     "text": [
      "The autoreload extension is already loaded. To reload it, use:\n",
      "  %reload_ext autoreload\n"
     ]
    }
   ],
   "source": [
    "# As usual, a bit of setup\n",
    "import cv2\n",
    "import numpy as np\n",
    "import matplotlib.pyplot as plt\n",
    "import time\n",
    "from cs231n.classifiers.tcnn import *\n",
    "from cs231n.data_utils import get_CIFAR10_data\n",
    "from cs231n.gradient_check import eval_numerical_gradient_array, eval_numerical_gradient\n",
    "from cs231n.layers import *\n",
    "from cs231n.fast_layers import *\n",
    "from cs231n.solver import Solver\n",
    "\n",
    "\n",
    "%matplotlib inline\n",
    "plt.rcParams['figure.figsize'] = (10.0, 8.0) # set default size of plots\n",
    "plt.rcParams['image.interpolation'] = 'nearest'\n",
    "plt.rcParams['image.cmap'] = 'gray'\n",
    "\n",
    "# for auto-reloading external modules\n",
    "# see http://stackoverflow.com/questions/1907993/autoreload-of-modules-in-ipython\n",
    "%load_ext autoreload\n",
    "%autoreload 2\n",
    "\n",
    "def rel_error(x, y):\n",
    "  \"\"\" returns relative error \"\"\"\n",
    "  return np.max(np.abs(x - y) / (np.maximum(1e-8, np.abs(x) + np.abs(y))))"
   ]
  },
  {
   "cell_type": "code",
   "execution_count": 13,
   "metadata": {},
   "outputs": [
    {
     "name": "stdout",
     "output_type": "stream",
     "text": [
      "Filtered Videos 600\n"
     ]
    }
   ],
   "source": [
    "# Load the UCF101 Data\n",
    "DataDir='/home/sadegh/cs231n/datasets/'\n",
    "TrainH=open(DataDir+'ucfTrainTestlist/trainlist01.txt','r')\n",
    "TestH=open(DataDir+'ucfTrainTestlist/testlist01.txt','r')\n",
    "TrainFiles=TrainH.readlines()\n",
    "TestFiles=TestH.readlines()\n",
    "TrainH.close()\n",
    "TestH.close()\n",
    "\n",
    "MinFrames=100\n",
    "FrameStride=5\n",
    "MinTrainingPerClass=50\n",
    "\n",
    "Nframe=MinFrames/FrameStride\n",
    "#SportFilter=[2,5,7,8,10,11,15,16,17,18,19,21,22,23,24,26,28,29,30,33,36,\n",
    "#             37,38,41,44,48,49,57,70,72,73,74,75,76,80,81,82,85,87,88,90,91,92,93,94,96,97]\n",
    "SportFilter=range(15)\n",
    "SamplePerClass={}\n",
    "\n",
    "Train_select_all=[]\n",
    "for sample in range(len(TrainFiles)):\n",
    "    vid=cv2.VideoCapture(DataDir+'UCF-101/'+TrainFiles[sample].split(' ')[0])\n",
    "    Nf=int(vid.get(cv2.CAP_PROP_FRAME_COUNT))\n",
    "    cind=int(TrainFiles[sample].split(' ')[1])-1\n",
    "    if (Nf>MinFrames and (cind in SportFilter)): \n",
    "        if cind in SamplePerClass:\n",
    "            if SamplePerClass[cind]==MinTrainingPerClass:\n",
    "                 continue\n",
    "            SamplePerClass[cind] +=1\n",
    "        else:\n",
    "            SamplePerClass[cind] = 1\n",
    "        Train_select_all.append((sample,cind))\n",
    "            \n",
    "vid.release()\n",
    "\n",
    "ViableClasses= [i for i in SamplePerClass if (SamplePerClass[i]==MinTrainingPerClass)]\n",
    "Train_select_viable=[i for (i,j) in Train_select_all if j in ViableClasses] \n",
    "\n",
    "print('Filtered Videos', len(Train_select_viable))\n",
    "N_train=int(len(Train_select_viable) * 0.8)\n",
    "N_val=len(Train_select_viable)-N_train\n",
    "\n",
    "\n",
    "idx=np.random.permutation(len(Train_select_viable));\n",
    "Train_select=[Train_select_viable[i] for i in idx] \n",
    "\n",
    "\n",
    "\n",
    "X_train=np.zeros((400,20,30,40,3),dtype='uint8')\n",
    "N_train,F,W,H,C=X_train.shape\n",
    "y_train=np.zeros(N_train)\n",
    "\n",
    "for i in range(N_train):\n",
    "    sample=Train_select[i]\n",
    "    vid=cv2.VideoCapture(DataDir+'UCF-101/'+TrainFiles[sample].split(' ')[0])\n",
    "    y_train[i]=ViableClasses.index(int(TrainFiles[sample].split(' ')[1])-1)\n",
    "    for f in range(100):\n",
    "        ret,frame=vid.read()  \n",
    "        if ret==True:\n",
    "            if (f%5==0):\n",
    "                X_train[i,int(f/5),:,:,:]=cv2.pyrDown(cv2.pyrDown(cv2.pyrDown(frame)))\n",
    "        else:\n",
    "            break\n",
    "    vid.release()\n",
    "\n",
    "    \n",
    "\n",
    "X_val=np.zeros((100,20,30,40,3),dtype='uint8')\n",
    "N_val,F,W,H,C=X_val.shape\n",
    "y_val=np.zeros(N_val)\n",
    "\n",
    "for i in range(N_val):\n",
    "    sample=Train_select[N_train+i]\n",
    "    vid=cv2.VideoCapture(DataDir+'UCF-101/'+TrainFiles[sample].split(' ')[0])\n",
    "    y_val[i]=ViableClasses.index(int(TrainFiles[sample].split(' ')[1])-1)\n",
    "    for f in range(100):\n",
    "        ret,frame=vid.read()  \n",
    "        if ret==True:\n",
    "            if (f%5==0):\n",
    "                X_val[i,int(f/5),:,:,:]=cv2.pyrDown(cv2.pyrDown(cv2.pyrDown(frame)))\n",
    "        else:\n",
    "            break\n",
    "    vid.release()\n",
    "\n",
    "###Just to make is consistent with cs231n code\n",
    "X_train=X_train.transpose(0,1,4,2,3)\n",
    "X_val=X_val.transpose(0,1,4,2,3)\n",
    "data = {\n",
    "  'X_train': X_train,\n",
    "  'y_train': y_train,\n",
    "  'X_val': X_val,\n",
    "  'y_val': y_val,\n",
    "}"
   ]
  },
  {
   "cell_type": "code",
   "execution_count": 14,
   "metadata": {},
   "outputs": [
    {
     "name": "stdout",
     "output_type": "stream",
     "text": [
      "Number of Classes: 12.0\n",
      "X_train (400, 20, 3, 30, 40)\n",
      "X_val (100, 20, 3, 30, 40)\n"
     ]
    },
    {
     "data": {
      "text/plain": [
       "<matplotlib.image.AxesImage at 0x7f71b008e320>"
      ]
     },
     "execution_count": 14,
     "metadata": {},
     "output_type": "execute_result"
    },
    {
     "data": {
      "image/png": "[encoded data removed]",
      "text/plain": [
       "<Figure size 720x576 with 1 Axes>"
      ]
     },
     "metadata": {
      "needs_background": "light"
     },
     "output_type": "display_data"
    }
   ],
   "source": [
    "print('Number of Classes:', max(y_train)+1)\n",
    "print('X_train',X_train.shape)\n",
    "print('X_val',X_val.shape)\n",
    "plt.imshow(X_train[1,0,[2,1,0],:,:].transpose(1,2,0))"
   ]
  },
  {
   "cell_type": "code",
   "execution_count": 19,
   "metadata": {},
   "outputs": [],
   "source": [
    "np.random.seed(231)\n",
    "\n",
    "    \n",
    "model = ThreeLayerTemporalConvNet(input_dim=(20,3, 30, 40), num_filters=32,num_Tfilters=8, filter_size=7,\n",
    "                 hidden_dim=15, num_classes=12, weight_scale=1e-4, reg=1e-3,\n",
    "                 dtype=np.float32)\n",
    "\n"
   ]
  },
  {
   "cell_type": "code",
   "execution_count": null,
   "metadata": {
    "scrolled": false
   },
   "outputs": [
    {
     "name": "stdout",
     "output_type": "stream",
     "text": [
      "(Iteration 1 / 400) loss: 2.492310\n",
      "(Epoch 0 / 10) train acc: 0.080000; val_acc: 0.070000\n",
      "(Iteration 11 / 400) loss: 2.482188\n",
      "(Iteration 21 / 400) loss: 2.478791\n",
      "(Iteration 31 / 400) loss: 2.481290\n",
      "(Epoch 1 / 10) train acc: 0.080000; val_acc: 0.080000\n",
      "(Iteration 41 / 400) loss: 2.464412\n",
      "(Iteration 51 / 400) loss: 2.506274\n",
      "(Iteration 61 / 400) loss: 2.484853\n",
      "(Iteration 71 / 400) loss: 2.487699\n",
      "(Epoch 2 / 10) train acc: 0.070000; val_acc: 0.050000\n",
      "(Iteration 81 / 400) loss: 2.491333\n",
      "(Iteration 91 / 400) loss: 2.486428\n",
      "(Iteration 101 / 400) loss: 2.488353\n",
      "(Iteration 111 / 400) loss: 2.488689\n"
     ]
    }
   ],
   "source": [
    "from cs231n.classifiers.tcnn import *\n",
    "solver = Solver(model, data,\n",
    "                num_epochs=10, batch_size=10,\n",
    "                update_rule='adam',\n",
    "                num_train_samples=100,\n",
    "                optim_config={\n",
    "                  'learning_rate': 5e-5,\n",
    "                },\n",
    "                verbose=True, print_every=10)\n",
    "solver.train()"
   ]
  },
  {
   "cell_type": "markdown",
   "metadata": {},
   "source": [
    "Plotting the loss, training accuracy, and validation accuracy should show clear overfitting:"
   ]
  },
  {
   "cell_type": "code",
   "execution_count": 11,
   "metadata": {},
   "outputs": [
    {
     "data": {
      "image/png": "[encoded data removed]",
      "text/plain": [
       "<Figure size 432x288 with 2 Axes>"
      ]
     },
     "metadata": {
      "needs_background": "light"
     },
     "output_type": "display_data"
    }
   ],
   "source": [
    "plt.subplot(2, 1, 1)\n",
    "plt.plot(solver.loss_history, 'o')\n",
    "plt.xlabel('iteration')\n",
    "plt.ylabel('loss')\n",
    "\n",
    "plt.subplot(2, 1, 2)\n",
    "plt.plot(solver.train_acc_history, '-o')\n",
    "plt.plot(solver.val_acc_history, '-o')\n",
    "plt.legend(['train', 'val'], loc='upper left')\n",
    "plt.xlabel('epoch')\n",
    "plt.ylabel('accuracy')\n",
    "plt.show()"
   ]
  },
  {
   "cell_type": "markdown",
   "metadata": {},
   "source": [
    "## Visualize Filters\n",
    "You can visualize the first-layer convolutional filters from the trained network by running the following:"
   ]
  },
  {
   "cell_type": "code",
   "execution_count": 72,
   "metadata": {},
   "outputs": [
    {
     "data": {
      "image/png": "[encoded data removed]",
      "text/plain": [
       "<Figure size 360x360 with 1 Axes>"
      ]
     },
     "metadata": {
      "needs_background": "light"
     },
     "output_type": "display_data"
    }
   ],
   "source": [
    "from cs231n.vis_utils import visualize_grid\n",
    "\n",
    "grid = visualize_grid(model.params['W1'].transpose(0, 2, 3, 1))\n",
    "plt.imshow(grid.astype('uint8'))\n",
    "plt.axis('off')\n",
    "plt.gcf().set_size_inches(5, 5)\n",
    "plt.show()"
   ]
  },
  {
   "cell_type": "code",
   "execution_count": 64,
   "metadata": {},
   "outputs": [
    {
     "data": {
      "image/png": "[encoded data removed]",
      "text/plain": [
       "<Figure size 432x288 with 1 Axes>"
      ]
     },
     "metadata": {
      "needs_background": "light"
     },
     "output_type": "display_data"
    }
   ],
   "source": [
    "filters = model.params['W2']\n",
    "plt.plot(filters[0,:])\n",
    "plt.show()"
   ]
  },
  {
   "cell_type": "code",
   "execution_count": null,
   "metadata": {},
   "outputs": [],
   "source": []
  }
 ],
 "metadata": {
  "kernelspec": {
   "display_name": "Python 3",
   "language": "python",
   "name": "python3"
  },
  "language_info": {
   "codemirror_mode": {
    "name": "ipython",
    "version": 3
   },
   "file_extension": ".py",
   "mimetype": "text/x-python",
   "name": "python",
   "nbconvert_exporter": "python",
   "pygments_lexer": "ipython3",
   "version": "3.7.3"
  }
 },
 "nbformat": 4,
 "nbformat_minor": 2
}
